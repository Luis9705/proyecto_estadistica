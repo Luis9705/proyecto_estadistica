{
 "cells": [
  {
   "cell_type": "markdown",
   "metadata": {},
   "source": [
    " <table style=\"width:100%\">\n",
    "  <tr>\n",
    "      <th></th>\n",
    "      <th><h2><center>Proyecto: Análisis estadístico completo de las precipitaciones pluviales en la ZMG durante los últimos años incluyendo modelación con variables aleatorias discretas y continuas y reflexión sobre la conciencia ecológica.\n",
    "</center></h2> </th>\n",
    "    <th><img  title=\"Logo Tec\" src=\"http://www.gentesinaloa.com/wp-content/uploads/2018/09/TecMonterrey.png\" alt=\"Bosch\" width=\"150\" height=\"50\" /></th>\n",
    "  </tr>\n",
    "</table>"
   ]
  },
  {
   "attachments": {},
   "cell_type": "markdown",
   "metadata": {},
   "source": [
    "Datos obtenidos de:\n",
    "\n",
    "https://smn.cna.gob.mx/es/climatologia/temperaturas-y-lluvias/resumenes-mensuales-de-temperaturas-y-lluvias\n",
    "\n",
    "https://sinaica.inecc.gob.mx/"
   ]
  },
  {
   "cell_type": "code",
   "execution_count": 273,
   "metadata": {},
   "outputs": [],
   "source": [
    "from requests import get, post\n",
    "from pdftables_api import Client\n",
    "from pandas import read_csv, DataFrame, datetime, concat\n",
    "from numpy import arange, unique\n",
    "from re import findall\n",
    "from bs4 import BeautifulSoup\n",
    "from ast import literal_eval\n",
    "import matplotlib.pyplot as plt\n",
    "api_key = \"744xtablcyir\""
   ]
  },
  {
   "cell_type": "code",
   "execution_count": 346,
   "metadata": {},
   "outputs": [],
   "source": [
    "code = '''\n",
    "years = arange(1985, 2020)\n",
    "\n",
    "for year in years:\n",
    "    ##Guardamos el PDF desde la pagina de gob.mx\n",
    "    url = \"https://smn.cna.gob.mx/tools/DATA/Climatolog%C3%ADa/Pron%C3%B3stico%20clim%C3%A1tico/Temperatura%20y%20Lluvia/PREC/{}.pdf\".format(year)\n",
    "    response = get(url)\n",
    "    file_name = 'Precipitaciones_{}'.format(year)\n",
    "    path_pdf = '../Data/PDF/{}.pdf'.format(file_name)\n",
    "    with open(path_pdf, 'wb') as f:\n",
    "        f.write(response.content)\n",
    "    ##Convertimos el PDF a CSV\n",
    "    path_csv = '../Data/CSV/{}.csv'.format(file_name)\n",
    "    c = Client(api_key)\n",
    "    c.csv(path_pdf, path_csv) #replace c.xlsx with c.csv to convert to CSV   \n",
    "#read_csv(path_csv, header = 2)\n",
    "'''"
   ]
  },
  {
   "cell_type": "code",
   "execution_count": 199,
   "metadata": {},
   "outputs": [],
   "source": [
    "stations_names = [\"Atemajac\",\"Centro\",\"Las Aguilas\", \"Las Pintas\", \"Loma Dorada\", \"Miravalle\", \"Oblatos\", \"Santa Fe\", \"Tlaquepaque\", \"Vallarta\"]\n",
    "stations_id = arange(101,111) #Las estaciones de Guadalajara van de la 101 a la 110"
   ]
  },
  {
   "cell_type": "code",
   "execution_count": 252,
   "metadata": {},
   "outputs": [],
   "source": [
    "url = 'https://sinaica.inecc.gob.mx/pags/datGrafs.php'\n",
    "#while i, station in enumerate(stations_id):\n",
    "df = DataFrame(columns=['id','fecha','hora','valor','estacion_id','estacion_nombre'])\n",
    "for i, station_id in enumerate(stations_id):\n",
    "    date = \"2000-01-01\"\n",
    "    data = []\n",
    "    while date < \"2019-02-18\":\n",
    "        payload = {\n",
    "            \"estacionId\": station_id,\n",
    "            \"param\": \"PP\",\n",
    "            \"fechaIni\": date,\n",
    "            \"rango\": '30',\n",
    "            \"tipoDatos\": None\n",
    "        }\n",
    "        r = post(url=url,data=payload,headers={'X-Requested-With': 'XMLHttpRequest'})\n",
    "        s = BeautifulSoup(r.content, 'html.parser')\n",
    "        script = s.find_all(\"script\",type=\"text/javascript\")[0].text\n",
    "        #https://stackoverflow.com/questions/24118337/fetch-data-of-variables-inside-script-tag-in-python-or-content-added-from-js\n",
    "        m = findall('var dat = (.*?);', script)[0]\n",
    "        m = literal_eval(m)\n",
    "        if len(m):\n",
    "            fechas = [x['fecha'] for x in m]\n",
    "            date = max(fechas)\n",
    "            for d in m:\n",
    "                data.append(d)\n",
    "        else:\n",
    "            print('empty')\n",
    "    ids = [x['id'] for x in data]\n",
    "    fechas = [x['fecha'] for x in data]\n",
    "    horas = [x['hora'] for x in data]\n",
    "    valores = [float(x['valor']) for x in data]\n",
    "\n",
    "    df1 = DataFrame({'id':ids,\n",
    "                  'fecha':fechas,\n",
    "                  'hora':horas,\n",
    "                  'valor':valores,\n",
    "                  'estacion_id': station_id,\n",
    "                  'estacion_nombre': stations_names[i]\n",
    "                    \n",
    "                 })\n",
    "    df = concat([df, df1])\n",
    "df = df.drop_duplicates(subset=['id'], keep=False)    \n",
    "df.to_csv(\"../Data/Estaciones/precipitaciones_GDL.csv\")"
   ]
  },
  {
   "cell_type": "code",
   "execution_count": 355,
   "metadata": {},
   "outputs": [],
   "source": [
    "dateparse = lambda dates: [datetime.strptime(d, '%Y-%m-%d') for d in dates]\n",
    "df = read_csv(\"../Data/Estaciones/precipitaciones_GDL.csv\", index_col=0, parse_dates=['fecha'], date_parser=dateparse)"
   ]
  },
  {
   "cell_type": "code",
   "execution_count": 382,
   "metadata": {},
   "outputs": [
    {
     "data": {
      "image/png": "[encoded data removed]",
      "text/plain": [
       "<Figure size 432x288 with 1 Axes>"
      ]
     },
     "metadata": {},
     "output_type": "display_data"
    }
   ],
   "source": [
    "df1 = df.loc[(df.fecha.dt.year == 2017)]\n",
    "values = df1.groupby(df1.fecha.dt.month).mean().valor.values\n",
    "plt.bar(arange(1,len(values)+1),values)\n",
    "plt.show()"
   ]
  },
  {
   "cell_type": "code",
   "execution_count": 384,
   "metadata": {},
   "outputs": [
    {
     "data": {
      "image/png": "[encoded data removed]",
      "text/plain": [
       "<Figure size 432x288 with 1 Axes>"
      ]
     },
     "metadata": {},
     "output_type": "display_data"
    }
   ],
   "source": [
    "df1 = df.loc[(df.fecha.dt.year == 2017)&(df.fecha.dt.month == 7)]\n",
    "values = df1.groupby(df1.fecha.dt.day).mean().valor.values\n",
    "plt.bar(arange(1,len(values)+1),values)\n",
    "plt.show()"
   ]
  },
  {
   "cell_type": "code",
   "execution_count": 398,
   "metadata": {},
   "outputs": [
    {
     "data": {
      "text/plain": [
       "0.44702380952380943"
      ]
     },
     "execution_count": 398,
     "metadata": {},
     "output_type": "execute_result"
    }
   ],
   "source": [
    "df1 = df1.loc[df1.fecha.dt.day == 7]\n",
    "(df1.groupby(['hora']).sum() / df1.groupby(['hora']).count()).valor.mean()"
   ]
  },
  {
   "cell_type": "code",
   "execution_count": 372,
   "metadata": {},
   "outputs": [],
   "source": [
    "file_name = 'Precipitaciones_{}'.format(2001)\n",
    "path_csv = '../Data/CSV/{}.csv'.format(file_name)"
   ]
  },
  {
   "cell_type": "code",
   "execution_count": 351,
   "metadata": {},
   "outputs": [],
   "source": [
    "df = read_csv(path_csv, header = 1)\n",
    "values = df.loc[df.ENTIDAD == 'JALISCO'][df.columns[1:-1]].values[0]"
   ]
  },
  {
   "cell_type": "code",
   "execution_count": 352,
   "metadata": {},
   "outputs": [
    {
     "data": {
      "image/png": "[encoded data removed]",
      "text/plain": [
       "<Figure size 432x288 with 1 Axes>"
      ]
     },
     "metadata": {},
     "output_type": "display_data"
    }
   ],
   "source": [
    "plt.bar(arange(1,13),values)\n",
    "plt.show()"
   ]
  },
  {
   "cell_type": "code",
   "execution_count": null,
   "metadata": {},
   "outputs": [],
   "source": []
  }
 ],
 "metadata": {
  "kernelspec": {
   "display_name": "Python 3",
   "language": "python",
   "name": "python3"
  },
  "language_info": {
   "codemirror_mode": {
    "name": "ipython",
    "version": 3
   },
   "file_extension": ".py",
   "mimetype": "text/x-python",
   "name": "python",
   "nbconvert_exporter": "python",
   "pygments_lexer": "ipython3",
   "version": "3.6.5"
  }
 },
 "nbformat": 4,
 "nbformat_minor": 2
}
